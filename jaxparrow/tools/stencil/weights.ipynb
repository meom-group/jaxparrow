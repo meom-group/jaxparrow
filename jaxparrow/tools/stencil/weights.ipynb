{
 "cells": [
  {
   "cell_type": "code",
   "outputs": [],
   "source": [
    "from timeit import timeit\n",
    "\n",
    "import jax.numpy as jnp\n",
    "\n",
    "from jaxparrow.tools.stencil.weights import _fornberg, weights\n",
    "\n",
    "%reload_ext autoreload\n",
    "%autoreload 2"
   ],
   "metadata": {
    "collapsed": false,
    "is_executing": true
   },
   "id": "f67ec9b028fb2eac",
   "execution_count": null
  },
  {
   "cell_type": "code",
   "outputs": [],
   "source": [
    "field = jnp.linspace(.1, .5, 100)\n",
    "dx = jnp.arange(100)\n",
    "x0 = 3.5"
   ],
   "metadata": {
    "collapsed": false,
    "is_executing": true
   },
   "id": "37f04a8d109426cd",
   "execution_count": null
  },
  {
   "cell_type": "code",
   "outputs": [],
   "source": [
    "_fornberg(jnp.arange(8), x0)"
   ],
   "metadata": {
    "collapsed": false,
    "is_executing": true
   },
   "id": "6c53e0eccb9e2e30",
   "execution_count": null
  },
  {
   "cell_type": "code",
   "outputs": [],
   "source": [
    "%timeit _fornberg(jnp.arange(8), x0)"
   ],
   "metadata": {
    "collapsed": false,
    "is_executing": true
   },
   "id": "bf1bba932638f807",
   "execution_count": null
  },
  {
   "cell_type": "code",
   "outputs": [],
   "source": [
    "weights(field, dx, 8, True)"
   ],
   "metadata": {
    "collapsed": false,
    "is_executing": true
   },
   "id": "fc7018066c22d415",
   "execution_count": null
  },
  {
   "cell_type": "code",
   "outputs": [],
   "source": [
    "weights(field, dx, 8, False)"
   ],
   "metadata": {
    "collapsed": false,
    "is_executing": true
   },
   "id": "de78c8c5f854e68",
   "execution_count": null
  },
  {
   "cell_type": "code",
   "outputs": [],
   "source": [
    "%timeit weights(field, dx, 8, True)"
   ],
   "metadata": {
    "collapsed": false,
    "is_executing": true
   },
   "id": "8a912284b13b09cd",
   "execution_count": null
  }
 ],
 "metadata": {
  "kernelspec": {
   "display_name": "Python 3",
   "language": "python",
   "name": "python3"
  },
  "language_info": {
   "codemirror_mode": {
    "name": "ipython",
    "version": 2
   },
   "file_extension": ".py",
   "mimetype": "text/x-python",
   "name": "python",
   "nbconvert_exporter": "python",
   "pygments_lexer": "ipython2",
   "version": "2.7.6"
  }
 },
 "nbformat": 4,
 "nbformat_minor": 5
}
