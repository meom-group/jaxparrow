{
 "cells": [
  {
   "cell_type": "code",
   "outputs": [],
   "source": [
    "from timeit import timeit\n",
    "\n",
    "import jax.numpy as jnp\n",
    "\n",
    "from mask import mask\n",
    "\n",
    "%reload_ext autoreload\n",
    "%autoreload 2"
   ],
   "metadata": {
    "collapsed": false,
    "ExecuteTime": {
     "end_time": "2024-04-26T08:11:01.533803Z",
     "start_time": "2024-04-26T08:11:01.171365Z"
    }
   },
   "id": "ce7790b5b89c391a",
   "execution_count": 1
  },
  {
   "cell_type": "code",
   "outputs": [],
   "source": [
    "no_land = jnp.ones(10)\n",
    "with_nan = jnp.ones(10).at[4].set(jnp.nan)\n",
    "with_inf = jnp.ones(10).at[1].set(jnp.inf)"
   ],
   "metadata": {
    "collapsed": false,
    "ExecuteTime": {
     "end_time": "2024-04-26T08:11:01.616986Z",
     "start_time": "2024-04-26T08:11:01.534825Z"
    }
   },
   "id": "426d109c99d0d537",
   "execution_count": 2
  },
  {
   "cell_type": "code",
   "outputs": [
    {
     "data": {
      "text/plain": "(Array([1., 1., 1., 1., 1., 1., 1., 1., 1., 1.], dtype=float32),\n Array([ 1., inf,  1.,  1.,  1.,  1.,  1.,  1.,  1.,  1.], dtype=float32),\n Array([ 1.,  1.,  1.,  1., nan,  1.,  1.,  1.,  1.,  1.], dtype=float32))"
     },
     "execution_count": 3,
     "metadata": {},
     "output_type": "execute_result"
    }
   ],
   "source": [
    "no_land, with_inf, with_nan"
   ],
   "metadata": {
    "collapsed": false,
    "ExecuteTime": {
     "end_time": "2024-04-26T08:11:01.628075Z",
     "start_time": "2024-04-26T08:11:01.617331Z"
    }
   },
   "id": "c707f6901f35131e",
   "execution_count": 3
  },
  {
   "cell_type": "code",
   "outputs": [
    {
     "data": {
      "text/plain": "(Array([[False,  True, False, False, False, False, False, False, False,\n          True],\n        [False, False,  True, False, False, False, False, False,  True,\n         False],\n        [False, False, False,  True, False, False, False,  True, False,\n         False],\n        [False, False, False, False,  True,  True,  True, False, False,\n         False]], dtype=bool),\n Array([[False, False, False,  True, False, False, False, False, False,\n          True],\n        [False, False, False, False,  True, False, False, False,  True,\n         False],\n        [False, False, False, False, False,  True, False,  True, False,\n         False],\n        [False, False, False, False, False, False,  True, False, False,\n         False]], dtype=bool),\n Array([[False,  True, False,  True, False, False,  True, False, False,\n          True],\n        [False, False,  True, False, False, False, False,  True,  True,\n         False],\n        [False, False, False, False, False, False, False, False, False,\n         False],\n        [False, False, False, False, False, False, False, False, False,\n         False]], dtype=bool))"
     },
     "execution_count": 4,
     "metadata": {},
     "output_type": "execute_result"
    }
   ],
   "source": [
    "mask(no_land, 4, True), mask(with_inf, 4, True), mask(with_nan, 4, True)"
   ],
   "metadata": {
    "collapsed": false,
    "ExecuteTime": {
     "end_time": "2024-04-26T08:11:01.762173Z",
     "start_time": "2024-04-26T08:11:01.628936Z"
    }
   },
   "id": "38f880bd4bfd80a8",
   "execution_count": 4
  },
  {
   "cell_type": "code",
   "outputs": [
    {
     "data": {
      "text/plain": "(Array([[ True, False, False, False, False, False, False, False,  True,\n         False],\n        [False,  True, False, False, False, False, False,  True, False,\n         False],\n        [False, False,  True, False, False, False,  True, False, False,\n         False],\n        [False, False, False,  True,  True,  True, False, False, False,\n         False]], dtype=bool),\n Array([[False, False,  True, False, False, False, False, False,  True,\n         False],\n        [False, False, False,  True, False, False, False,  True, False,\n         False],\n        [False, False, False, False,  True, False,  True, False, False,\n         False],\n        [False, False, False, False, False,  True, False, False, False,\n         False]], dtype=bool),\n Array([[ True, False,  True, False, False,  True, False, False,  True,\n         False],\n        [False,  True, False, False, False, False,  True,  True, False,\n         False],\n        [False, False, False, False, False, False, False, False, False,\n         False],\n        [False, False, False, False, False, False, False, False, False,\n         False]], dtype=bool))"
     },
     "execution_count": 5,
     "metadata": {},
     "output_type": "execute_result"
    }
   ],
   "source": [
    "mask(no_land, 4, False), mask(with_inf, 4, False), mask(with_nan, 4, False)"
   ],
   "metadata": {
    "collapsed": false,
    "ExecuteTime": {
     "end_time": "2024-04-26T08:11:01.776930Z",
     "start_time": "2024-04-26T08:11:01.761984Z"
    }
   },
   "id": "8800ff7a6414fdf4",
   "execution_count": 5
  },
  {
   "cell_type": "code",
   "outputs": [
    {
     "name": "stdout",
     "output_type": "stream",
     "text": [
      "906 µs ± 8.26 µs per loop (mean ± std. dev. of 7 runs, 1,000 loops each)\n"
     ]
    }
   ],
   "source": [
    "%timeit mask(no_land, 4, True)"
   ],
   "metadata": {
    "collapsed": false,
    "ExecuteTime": {
     "end_time": "2024-04-26T08:11:09.129370Z",
     "start_time": "2024-04-26T08:11:01.777381Z"
    }
   },
   "id": "b8c59fedcf22e4a5",
   "execution_count": 6
  }
 ],
 "metadata": {
  "kernelspec": {
   "display_name": "Python 3",
   "language": "python",
   "name": "python3"
  },
  "language_info": {
   "codemirror_mode": {
    "name": "ipython",
    "version": 2
   },
   "file_extension": ".py",
   "mimetype": "text/x-python",
   "name": "python",
   "nbconvert_exporter": "python",
   "pygments_lexer": "ipython2",
   "version": "2.7.6"
  }
 },
 "nbformat": 4,
 "nbformat_minor": 5
}
