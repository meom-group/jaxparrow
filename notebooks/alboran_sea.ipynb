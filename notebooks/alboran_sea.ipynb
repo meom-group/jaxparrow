{
 "cells": [
  {
   "cell_type": "code",
   "execution_count": 2,
   "id": "5c55152f",
   "metadata": {
    "ExecuteTime": {
     "end_time": "2023-10-30T08:43:31.451280Z",
     "start_time": "2023-10-30T08:43:29.844957Z"
    }
   },
   "outputs": [],
   "source": [
    "import os\n",
    "\n",
    "import matplotlib.pyplot as plt\n",
    "import numpy as np\n",
    "import numpy.ma as ma\n",
    "import xarray as xr\n",
    "\n",
    "from jaxparrow.tools import compute_coriolis_factor, compute_spatial_step\n",
    "from jaxparrow import cyclogeostrophy, geostrophy\n",
    "\n",
    "%reload_ext autoreload\n",
    "%autoreload 2"
   ]
  },
  {
   "attachments": {},
   "cell_type": "markdown",
   "id": "8a6a01b9",
   "metadata": {},
   "source": [
    "# Input data\n",
    "\n",
    "In this example, we use NEMO model outputs (SSH and velocities), stored in several netCDF files.\n",
    "Data can be downloaded [here](https://1drv.ms/f/s!Aq7KsFIdmDGepjMT6o77ko-JRRZu?e=hpxeKa), and the files stored inside the `data` folder.\n",
    "\n",
    "Measurements are located on a C-grid."
   ]
  },
  {
   "cell_type": "code",
   "execution_count": 3,
   "id": "1e35871b",
   "metadata": {
    "collapsed": false,
    "ExecuteTime": {
     "end_time": "2023-10-30T08:43:31.463350Z",
     "start_time": "2023-10-30T08:43:31.451960Z"
    }
   },
   "outputs": [],
   "source": [
    "data_dir = \"data\"\n",
    "name_mask = \"mask_eNATL60MEDWEST_3.6.nc\"\n",
    "name_coord = \"coordinates_eNATL60MEDWEST.nc\"\n",
    "name_ssh = \"eNATL60MEDWEST-BLB002_y2009m07d01.1h_sossheig.nc\"\n",
    "name_u = \"eNATL60MEDWEST-BLB002_y2009m07d01.1h_sozocrtx.nc\"\n",
    "name_v = \"eNATL60MEDWEST-BLB002_y2009m07d01.1h_somecrty.nc\""
   ]
  },
  {
   "cell_type": "markdown",
   "id": "31e2b1b4fab206a6",
   "metadata": {
    "collapsed": false
   },
   "source": [
    "#### Alboran sea\n",
    "\n",
    "The original simulation covers a large mediterranean area that we crop to the Alboran sea."
   ]
  },
  {
   "cell_type": "code",
   "execution_count": 4,
   "id": "571663bee501db40",
   "metadata": {
    "collapsed": false,
    "ExecuteTime": {
     "end_time": "2023-10-30T08:43:31.477231Z",
     "start_time": "2023-10-30T08:43:31.464015Z"
    }
   },
   "outputs": [],
   "source": [
    "min_lon = -5.5\n",
    "max_lon = -1\n",
    "min_lat = 35\n",
    "max_lat = 36.9"
   ]
  },
  {
   "cell_type": "code",
   "execution_count": 5,
   "id": "dd933692",
   "metadata": {
    "collapsed": false,
    "ExecuteTime": {
     "end_time": "2023-10-30T08:43:36.227455Z",
     "start_time": "2023-10-30T08:43:35.473114Z"
    }
   },
   "outputs": [],
   "source": [
    "ds_coord = xr.open_dataset(os.path.join(data_dir, name_coord))\n",
    "\n",
    "# slicing requires coordinates with indexes\n",
    "# without indexes, we can use a mask on coordinates\n",
    "alboran_mask = np.logical_and(np.logical_and(ds_coord.nav_lon >= min_lon, ds_coord.nav_lon <= max_lon),\n",
    "                              np.logical_and(ds_coord.nav_lat >= min_lat, ds_coord.nav_lat <= max_lat))\n",
    "\n",
    "ds_coord = ds_coord.set_coords([\"nav_lon\", \"nav_lat\"])\n",
    "ds_coord = ds_coord.where(alboran_mask, drop=True)\n",
    "lon = ds_coord.nav_lon.values\n",
    "lat = ds_coord.nav_lat.values\n",
    "\n",
    "ds_mask = xr.open_dataset(os.path.join(data_dir, name_mask)).set_coords([\"nav_lon\", \"nav_lat\"])\n",
    "ds_mask = ds_mask.where(alboran_mask, drop=True)\n",
    "mask_ssh = ds_mask.tmask[0,0].values\n",
    "mask_u = ds_mask.umask[0,0].values\n",
    "mask_v = ds_mask.vmask[0,0].values\n",
    "\n",
    "ds_ssh = xr.open_dataset(os.path.join(data_dir, name_ssh)).set_coords([\"nav_lon\", \"nav_lat\"])\n",
    "ds_ssh = ds_ssh.where(alboran_mask, drop=True)\n",
    "lon_ssh = ds_ssh.nav_lon.values\n",
    "lat_ssh = ds_ssh.nav_lat.values\n",
    "ssh = ds_ssh.sossheig[0].values\n",
    "\n",
    "ds_u = xr.open_dataset(os.path.join(data_dir, name_u)).set_coords([\"nav_lon\", \"nav_lat\"])\n",
    "ds_u = ds_u.where(alboran_mask, drop=True)\n",
    "lon_u = ds_u.nav_lon.values\n",
    "lat_u = ds_u.nav_lat.values\n",
    "uvel = ds_u.sozocrtx[0].values\n",
    "\n",
    "ds_v = xr.open_dataset(os.path.join(data_dir, name_v)).set_coords([\"nav_lon\", \"nav_lat\"])\n",
    "ds_v = ds_v.where(alboran_mask, drop=True)\n",
    "lon_v = ds_v.nav_lon.values\n",
    "lat_v = ds_v.nav_lat.values\n",
    "vvel = ds_v.somecrty[0].values"
   ]
  },
  {
   "cell_type": "markdown",
   "id": "1fb1398a5dd8780a",
   "metadata": {
    "collapsed": false
   },
   "source": [
    "We use `masked_array` to restrict the domain to the marine area."
   ]
  },
  {
   "cell_type": "code",
   "execution_count": null,
   "id": "e5431af1",
   "metadata": {
    "ExecuteTime": {
     "start_time": "2023-10-30T08:43:27.393186Z"
    }
   },
   "outputs": [],
   "source": [
    "mask_u = 1 - mask_u\n",
    "mask_v = 1 - mask_v\n",
    "mask_ssh = 1 - mask_ssh"
   ]
  },
  {
   "cell_type": "code",
   "execution_count": null,
   "id": "804452b1",
   "metadata": {
    "ExecuteTime": {
     "start_time": "2023-10-30T08:43:27.395031Z"
    }
   },
   "outputs": [],
   "source": [
    "uvel = ma.masked_array(uvel, mask_u)\n",
    "vvel = ma.masked_array(vvel, mask_v)\n",
    "ssh = ma.masked_array(ssh, mask_ssh)"
   ]
  },
  {
   "cell_type": "code",
   "execution_count": null,
   "id": "4aadf004",
   "metadata": {
    "ExecuteTime": {
     "start_time": "2023-10-30T08:43:27.396969Z"
    }
   },
   "outputs": [],
   "source": [
    "lon_u = ma.masked_array(lon_u, mask_u)\n",
    "lat_u = ma.masked_array(lat_u, mask_u)\n",
    "lon_v = ma.masked_array(lon_v, mask_v)\n",
    "lat_v = ma.masked_array(lat_v, mask_v)\n",
    "lon_ssh = ma.masked_array(lon_ssh, mask_ssh)\n",
    "lat_ssh = ma.masked_array(lat_ssh, mask_ssh)"
   ]
  },
  {
   "attachments": {},
   "cell_type": "markdown",
   "id": "00b6f2b2",
   "metadata": {},
   "source": [
    "#### Visualising SSH and currents"
   ]
  },
  {
   "cell_type": "code",
   "execution_count": null,
   "id": "f6531c89",
   "metadata": {
    "ExecuteTime": {
     "start_time": "2023-10-30T08:43:27.398967Z"
    }
   },
   "outputs": [],
   "source": [
    "vmax = 1.5\n",
    "_, (ax1, ax2) = plt.subplots(1, 2, figsize=(20, 5))\n",
    "ax1.set_xlabel(\"longitude \\n (ssh)\")\n",
    "ax2.set_xlabel(\"longitude \\n (vel)\")\n",
    "ax1.set_ylabel(\"latitude\")\n",
    "im = ax1.pcolormesh(lon, lat, ssh, shading=\"auto\")\n",
    "plt.colorbar(im, ax=ax1)\n",
    "im = ax2.pcolormesh(lon, lat, np.sqrt(uvel**2 + vvel**2), shading=\"auto\", vmin=0, vmax=vmax)\n",
    "plt.colorbar(im, ax=ax2)\n",
    "quiver_step = 5\n",
    "ax2.quiver(lon[::quiver_step, ::quiver_step], lat[::quiver_step, ::quiver_step], \n",
    "           uvel[::quiver_step, ::quiver_step], vvel[::quiver_step, ::quiver_step])\n",
    "plt.show()"
   ]
  },
  {
   "attachments": {},
   "cell_type": "markdown",
   "id": "7874d81d",
   "metadata": {},
   "source": [
    "#### Compute spatial steps\n",
    "\n",
    "The netCDF files we use as input do not contain the spatial steps required to compute derivatives later.\n",
    "The sub-module `tools` provides the utility function `compute_spatial_step` to compute them from our grids."
   ]
  },
  {
   "cell_type": "code",
   "execution_count": null,
   "id": "73bb0d02",
   "metadata": {
    "ExecuteTime": {
     "start_time": "2023-10-30T08:43:27.400550Z"
    }
   },
   "outputs": [],
   "source": [
    "dx_ssh, dy_ssh = compute_spatial_step(lat_ssh, lon_ssh)\n",
    "dx_u, dy_u = compute_spatial_step(lat_u, lon_u)\n",
    "dx_v, dy_v = compute_spatial_step(lat_v, lon_v)"
   ]
  },
  {
   "cell_type": "markdown",
   "id": "c8946c6e757a7b15",
   "metadata": {
    "collapsed": false
   },
   "source": [
    "#### Coriolis factor\n",
    "\n",
    "Estimating the velocities also involve the Coriolis factor, which varies with the latitude.\n",
    "The function `compute_coriolis_factor` from the sub-module `tools` might be used here."
   ]
  },
  {
   "cell_type": "code",
   "execution_count": null,
   "id": "1e060a99",
   "metadata": {
    "ExecuteTime": {
     "start_time": "2023-10-30T08:43:27.402139Z"
    }
   },
   "outputs": [],
   "source": [
    "coriolis_factor_u = compute_coriolis_factor(lat_u)\n",
    "coriolis_factor_v = compute_coriolis_factor(lat_v)"
   ]
  },
  {
   "attachments": {},
   "cell_type": "markdown",
   "id": "b4b11d90",
   "metadata": {},
   "source": [
    "# Geostrophic balance\n",
    "\n",
    "We estimate the geostrophic velocities using the `geostrophy` function, given the SSH, the spatial steps, and the coriolis factors."
   ]
  },
  {
   "cell_type": "code",
   "execution_count": null,
   "id": "86993874",
   "metadata": {
    "ExecuteTime": {
     "start_time": "2023-10-30T08:43:27.404207Z"
    }
   },
   "outputs": [],
   "source": [
    "u_geos, v_geos = geostrophy(ssh, dx_ssh, dy_ssh, coriolis_factor_u, coriolis_factor_v)"
   ]
  },
  {
   "cell_type": "code",
   "execution_count": null,
   "id": "23fd147a",
   "metadata": {
    "ExecuteTime": {
     "start_time": "2023-10-30T08:43:27.405845Z"
    }
   },
   "outputs": [],
   "source": [
    "u_geos = ma.masked_array(u_geos, mask_u)\n",
    "v_geos = ma.masked_array(v_geos, mask_v)"
   ]
  },
  {
   "attachments": {},
   "cell_type": "markdown",
   "id": "35b8a067",
   "metadata": {},
   "source": [
    "#### Comparison to NEMO's velocities"
   ]
  },
  {
   "cell_type": "code",
   "execution_count": null,
   "id": "5992646c906c9d54",
   "metadata": {
    "collapsed": false,
    "ExecuteTime": {
     "start_time": "2023-10-30T08:43:27.407258Z"
    }
   },
   "outputs": [],
   "source": [
    "_, (ax1, ax2) = plt.subplots(1, 2, figsize=(20, 5))\n",
    "ax1.set_xlabel(\"longitude \\n (NEMO)\")\n",
    "ax2.set_xlabel(\"longitude \\n (geos)\")\n",
    "ax1.set_ylabel(\"latitude\")\n",
    "im = ax1.pcolormesh(lon, lat, np.sqrt(uvel**2 + vvel**2), shading=\"auto\", vmin=0, vmax=vmax)\n",
    "plt.colorbar(im, ax=ax1)\n",
    "ax1.quiver(lon[::quiver_step, ::quiver_step], lat[::quiver_step, ::quiver_step], \n",
    "           uvel[::quiver_step, ::quiver_step], vvel[::quiver_step, ::quiver_step])\n",
    "im = ax2.pcolormesh(lon, lat, np.sqrt(u_geos**2 + v_geos**2), shading=\"auto\", vmin=0, vmax=vmax)\n",
    "plt.colorbar(im, ax=ax2)\n",
    "ax2.quiver(lon[::quiver_step, ::quiver_step], lat[::quiver_step, ::quiver_step], \n",
    "           u_geos[::quiver_step, ::quiver_step], v_geos[::quiver_step, ::quiver_step])\n",
    "\n",
    "_, (ax1, ax2) = plt.subplots(1, 2, figsize=(20, 5))\n",
    "ax1.set_xlabel(\"longitude \\n (NEMO - geos)\")\n",
    "ax2.set_xlabel(\"longitude \\n (NEMO - geos) / NEMO\")\n",
    "ax1.set_ylabel(\"latitude\")\n",
    "im = ax1.pcolormesh(lon, lat, np.sqrt(uvel**2 + vvel**2) - np.sqrt(u_geos**2 + v_geos**2), cmap=\"RdBu\", shading=\"auto\")\n",
    "plt.colorbar(im, ax=ax1)\n",
    "im = ax2.pcolormesh(lon, lat, (np.sqrt(uvel**2 + vvel**2) - np.sqrt(u_geos**2 + v_geos**2)) / np.sqrt(uvel**2 + vvel**2), cmap=\"RdBu\", shading=\"auto\", vmin=-1, vmax=1)\n",
    "plt.colorbar(im, ax=ax2)"
   ]
  },
  {
   "cell_type": "markdown",
   "id": "c46f9e2e",
   "metadata": {
    "collapsed": false
   },
   "source": [
    "# Cyclogeostrophic balance"
   ]
  },
  {
   "attachments": {},
   "cell_type": "markdown",
   "id": "1007cbfe",
   "metadata": {},
   "source": [
    "## Variational method\n",
    "\n",
    "Cyclogeostrophic velocities are computed via the `cyclogeostrophy` function, using geostrophic velocities (here, the ones we previously computed), spatial steps, and the coriolis factors."
   ]
  },
  {
   "cell_type": "code",
   "execution_count": null,
   "id": "9d99e77d",
   "metadata": {
    "ExecuteTime": {
     "start_time": "2023-10-30T08:43:27.408481Z"
    }
   },
   "outputs": [],
   "source": [
    "u_var, v_var = cyclogeostrophy(u_geos, v_geos, dx_u, dx_v, dy_u, dy_v, coriolis_factor_u, coriolis_factor_v)"
   ]
  },
  {
   "cell_type": "code",
   "execution_count": null,
   "id": "ab50362c",
   "metadata": {
    "ExecuteTime": {
     "start_time": "2023-10-30T08:43:27.409477Z"
    }
   },
   "outputs": [],
   "source": [
    "u_var = ma.masked_array(u_var, mask_u)\n",
    "v_var = ma.masked_array(v_var, mask_v)"
   ]
  },
  {
   "cell_type": "markdown",
   "id": "d3e2c5e5e0da2dea",
   "metadata": {
    "collapsed": false
   },
   "source": [
    "#### Comparison to NEMO's velocities"
   ]
  },
  {
   "cell_type": "code",
   "execution_count": null,
   "id": "29e8b05a93211d0a",
   "metadata": {
    "collapsed": false,
    "ExecuteTime": {
     "start_time": "2023-10-30T08:43:27.410638Z"
    }
   },
   "outputs": [],
   "source": [
    "_, (ax1, ax2) = plt.subplots(1, 2, figsize=(20, 5))\n",
    "ax1.set_xlabel(\"longitude \\n (NEMO)\")\n",
    "ax2.set_xlabel(\"longitude \\n (var)\")\n",
    "ax1.set_ylabel(\"latitude\")\n",
    "im = ax1.pcolormesh(lon, lat, np.sqrt(uvel**2 + vvel**2), shading=\"auto\", vmin=0, vmax=vmax)\n",
    "plt.colorbar(im, ax=ax1)\n",
    "ax1.quiver(lon[::quiver_step, ::quiver_step], lat[::quiver_step, ::quiver_step], \n",
    "           uvel[::quiver_step, ::quiver_step], vvel[::quiver_step, ::quiver_step])\n",
    "im = ax2.pcolormesh(lon, lat, np.sqrt(u_var**2 + v_var**2), shading=\"auto\", vmin=0, vmax=vmax)\n",
    "plt.colorbar(im, ax=ax2)\n",
    "ax2.quiver(lon[::quiver_step, ::quiver_step], lat[::quiver_step, ::quiver_step], \n",
    "           u_var[::quiver_step, ::quiver_step], v_var[::quiver_step, ::quiver_step])\n",
    "\n",
    "_, (ax1, ax2) = plt.subplots(1, 2, figsize=(20, 5))\n",
    "ax1.set_xlabel(\"longitude \\n (NEMO - var)\")\n",
    "ax2.set_xlabel(\"longitude \\n (NEMO - var) / NEMO\")\n",
    "ax1.set_ylabel(\"latitude\")\n",
    "im = ax1.pcolormesh(lon, lat, np.sqrt(uvel**2 + vvel**2) - np.sqrt(u_var**2 + v_var**2), cmap=\"RdBu\", shading=\"auto\")\n",
    "plt.colorbar(im, ax=ax1)\n",
    "im = ax2.pcolormesh(lon, lat, (np.sqrt(uvel**2 + vvel**2) - np.sqrt(u_var**2 + v_var**2)) / np.sqrt(uvel**2 + vvel**2), cmap=\"RdBu\", shading=\"auto\", vmin=-1, vmax=1)\n",
    "plt.colorbar(im, ax=ax2)"
   ]
  },
  {
   "attachments": {},
   "cell_type": "markdown",
   "id": "89191237",
   "metadata": {},
   "source": [
    "## Penven method\n",
    "\n",
    "We use the same function, but with the argument `method=\"penven\"`. "
   ]
  },
  {
   "cell_type": "code",
   "execution_count": null,
   "id": "64f4023a",
   "metadata": {
    "ExecuteTime": {
     "start_time": "2023-10-30T08:43:27.412191Z"
    }
   },
   "outputs": [],
   "source": [
    "u_penven, v_penven = cyclogeostrophy(u_geos, v_geos, dx_u, dx_v, dy_u, dy_v, coriolis_factor_u, coriolis_factor_v, method=\"penven\")"
   ]
  },
  {
   "cell_type": "code",
   "execution_count": null,
   "id": "cb5f689c9fde0ff6",
   "metadata": {
    "collapsed": false,
    "ExecuteTime": {
     "start_time": "2023-10-30T08:43:27.413359Z"
    }
   },
   "outputs": [],
   "source": [
    "u_penven = ma.masked_array(u_penven, mask_u)\n",
    "v_penven = ma.masked_array(v_penven, mask_v)"
   ]
  },
  {
   "cell_type": "markdown",
   "id": "eb3c62eac7e2b973",
   "metadata": {
    "collapsed": false
   },
   "source": [
    "#### Comparison to NEMO's velocities"
   ]
  },
  {
   "cell_type": "code",
   "execution_count": null,
   "id": "6e1dd1e1101a5693",
   "metadata": {
    "collapsed": false,
    "ExecuteTime": {
     "start_time": "2023-10-30T08:43:27.414475Z"
    }
   },
   "outputs": [],
   "source": [
    "_, (ax1, ax2) = plt.subplots(1, 2, figsize=(20, 5))\n",
    "ax1.set_xlabel(\"longitude \\n (NEMO)\")\n",
    "ax2.set_xlabel(\"longitude \\n (Penven)\")\n",
    "ax1.set_ylabel(\"latitude\")\n",
    "im = ax1.pcolormesh(lon, lat, np.sqrt(uvel**2 + vvel**2), shading=\"auto\", vmin=0, vmax=vmax)\n",
    "plt.colorbar(im, ax=ax1)\n",
    "ax1.quiver(lon[::quiver_step, ::quiver_step], lat[::quiver_step, ::quiver_step], \n",
    "           uvel[::quiver_step, ::quiver_step], vvel[::quiver_step, ::quiver_step])\n",
    "im = ax2.pcolormesh(lon, lat, np.sqrt(u_penven**2 + v_penven**2), shading=\"auto\", vmin=0, vmax=vmax)\n",
    "plt.colorbar(im, ax=ax2)\n",
    "ax2.quiver(lon[::quiver_step, ::quiver_step], lat[::quiver_step, ::quiver_step], \n",
    "           u_penven[::quiver_step, ::quiver_step], v_penven[::quiver_step, ::quiver_step])\n",
    "\n",
    "_, (ax1, ax2) = plt.subplots(1, 2, figsize=(20, 5))\n",
    "ax1.set_xlabel(\"longitude \\n (NEMO - Penven)\")\n",
    "ax2.set_xlabel(\"longitude \\n (NEMO - Penven) / NEMO\")\n",
    "ax1.set_ylabel(\"latitude\")\n",
    "im = ax1.pcolormesh(lon, lat, np.sqrt(uvel**2 + vvel**2) - np.sqrt(u_penven**2 + v_penven**2), cmap=\"RdBu\", shading=\"auto\")\n",
    "plt.colorbar(im, ax=ax1)\n",
    "im = ax2.pcolormesh(lon, lat, (np.sqrt(uvel**2 + vvel**2) - np.sqrt(u_penven**2 + v_penven**2)) / np.sqrt(uvel**2 + vvel**2), cmap=\"RdBu\", shading=\"auto\", vmin=-1, vmax=1)\n",
    "plt.colorbar(im, ax=ax2)"
   ]
  },
  {
   "cell_type": "markdown",
   "id": "2b64d8ebac4a31ba",
   "metadata": {
    "collapsed": false
   },
   "source": [
    "## Ioannou method\n",
    "\n",
    "We use the same function, but with the argument `method=\"ioannou\"`. "
   ]
  },
  {
   "cell_type": "code",
   "execution_count": null,
   "id": "311061d2370624f9",
   "metadata": {
    "collapsed": false,
    "ExecuteTime": {
     "start_time": "2023-10-30T08:43:27.415578Z"
    }
   },
   "outputs": [],
   "source": [
    "u_ioannou, v_ioannou = cyclogeostrophy(u_geos, v_geos, dx_u, dx_v, dy_u, dy_v, coriolis_factor_u, coriolis_factor_v, method=\"ioannou\")"
   ]
  },
  {
   "cell_type": "code",
   "execution_count": null,
   "id": "d9d3e1157119cd63",
   "metadata": {
    "collapsed": false,
    "ExecuteTime": {
     "start_time": "2023-10-30T08:43:27.416651Z"
    }
   },
   "outputs": [],
   "source": [
    "u_ioannou = ma.masked_array(u_ioannou, mask_u)\n",
    "v_ioannou = ma.masked_array(v_ioannou, mask_v)"
   ]
  },
  {
   "cell_type": "markdown",
   "id": "ba21c56a0c967d4f",
   "metadata": {
    "collapsed": false
   },
   "source": [
    "#### Comparison to NEMO's velocities"
   ]
  },
  {
   "cell_type": "code",
   "execution_count": null,
   "id": "62db39f98a7c8f36",
   "metadata": {
    "collapsed": false,
    "ExecuteTime": {
     "start_time": "2023-10-30T08:43:27.417875Z"
    }
   },
   "outputs": [],
   "source": [
    "_, (ax1, ax2) = plt.subplots(1, 2, figsize=(20, 5))\n",
    "ax1.set_xlabel(\"longitude \\n (NEMO)\")\n",
    "ax2.set_xlabel(\"longitude \\n (Ioannou)\")\n",
    "ax1.set_ylabel(\"latitude\")\n",
    "im = ax1.pcolormesh(lon, lat, np.sqrt(uvel**2 + vvel**2), shading=\"auto\", vmin=0, vmax=vmax)\n",
    "plt.colorbar(im, ax=ax1)\n",
    "ax1.quiver(lon[::quiver_step, ::quiver_step], lat[::quiver_step, ::quiver_step], \n",
    "           uvel[::quiver_step, ::quiver_step], vvel[::quiver_step, ::quiver_step])\n",
    "im = ax2.pcolormesh(lon, lat, np.sqrt(u_ioannou**2 + v_ioannou**2), shading=\"auto\", vmin=0, vmax=vmax)\n",
    "plt.colorbar(im, ax=ax2)\n",
    "ax2.quiver(lon[::quiver_step, ::quiver_step], lat[::quiver_step, ::quiver_step], \n",
    "           u_ioannou[::quiver_step, ::quiver_step], v_ioannou[::quiver_step, ::quiver_step])\n",
    "\n",
    "_, (ax1, ax2) = plt.subplots(1, 2, figsize=(20, 5))\n",
    "ax1.set_xlabel(\"longitude \\n (NEMO - Ioannou)\")\n",
    "ax2.set_xlabel(\"longitude \\n (NEMO - Ioannou) / NEMO\")\n",
    "ax1.set_ylabel(\"latitude\")\n",
    "im = ax1.pcolormesh(lon, lat, np.sqrt(uvel**2 + vvel**2) - np.sqrt(u_ioannou**2 + v_ioannou**2), cmap=\"RdBu\", shading=\"auto\")\n",
    "plt.colorbar(im, ax=ax1)\n",
    "im = ax2.pcolormesh(lon, lat, (np.sqrt(uvel**2 + vvel**2) - np.sqrt(u_ioannou**2 + v_ioannou**2)) / np.sqrt(uvel**2 + vvel**2), cmap=\"RdBu\", shading=\"auto\", vmin=-1, vmax=1)\n",
    "plt.colorbar(im, ax=ax2)"
   ]
  },
  {
   "cell_type": "markdown",
   "id": "7953c74e27d1e5d",
   "metadata": {
    "collapsed": false
   },
   "source": [
    "#### Comparison to Penven velocities"
   ]
  },
  {
   "cell_type": "code",
   "execution_count": null,
   "id": "bf7e2e6cabc66279",
   "metadata": {
    "collapsed": false,
    "ExecuteTime": {
     "start_time": "2023-10-30T08:43:27.419437Z"
    }
   },
   "outputs": [],
   "source": [
    "_, (ax1, ax2) = plt.subplots(1, 2, figsize=(20, 5))\n",
    "ax1.set_xlabel(\"longitude \\n (Penven)\")\n",
    "ax2.set_xlabel(\"longitude \\n (Ioannou)\")\n",
    "ax1.set_ylabel(\"latitude\")\n",
    "im = ax1.pcolormesh(lon, lat, np.sqrt(u_penven**2 + v_penven**2), shading=\"auto\", vmin=0, vmax=vmax)\n",
    "plt.colorbar(im, ax=ax1)\n",
    "ax1.quiver(lon[::quiver_step, ::quiver_step], lat[::quiver_step, ::quiver_step], \n",
    "           u_penven[::quiver_step, ::quiver_step], v_penven[::quiver_step, ::quiver_step])\n",
    "im = ax2.pcolormesh(lon, lat, np.sqrt(u_ioannou**2 + v_ioannou**2), shading=\"auto\", vmin=0, vmax=vmax)\n",
    "plt.colorbar(im, ax=ax2)\n",
    "ax2.quiver(lon[::quiver_step, ::quiver_step], lat[::quiver_step, ::quiver_step], \n",
    "           u_ioannou[::quiver_step, ::quiver_step], v_ioannou[::quiver_step, ::quiver_step])\n",
    "\n",
    "_, ax = plt.subplots(1, 1, figsize=(9, 5))\n",
    "ax.set_xlabel(\"longitude \\n (Penven - Ioannou)\")\n",
    "ax.set_ylabel(\"latitude\")\n",
    "im = ax.pcolormesh(lon, lat, np.sqrt(u_penven**2 + v_penven**2) - np.sqrt(u_ioannou**2 + v_ioannou**2), cmap=\"RdBu\", shading=\"auto\")\n",
    "plt.colorbar(im, ax=ax)"
   ]
  }
 ],
 "metadata": {
  "celltoolbar": "Format de la Cellule Texte Brut",
  "kernelspec": {
   "display_name": "Python 3 (ipykernel)",
   "language": "python",
   "name": "python3"
  },
  "language_info": {
   "codemirror_mode": {
    "name": "ipython",
    "version": 3
   },
   "file_extension": ".py",
   "mimetype": "text/x-python",
   "name": "python",
   "nbconvert_exporter": "python",
   "pygments_lexer": "ipython3",
   "version": "3.9.6"
  }
 },
 "nbformat": 4,
 "nbformat_minor": 5
}
