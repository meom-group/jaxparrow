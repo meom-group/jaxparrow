{
 "cells": [
  {
   "cell_type": "markdown",
   "id": "4f5fabaf",
   "metadata": {},
   "source": [
    "The goal of this document is to open questions on some optimization results obtained when estimating cyclogeostrophic currents using a variational approach.\n",
    "\n",
    "First, we briefly present the oceanographic background in Sections {ref}`sec:geostrophy` and {ref}`sec:cyclogeostrophy`. In Section {ref}`sec:cyclogeostrophy`, we also introduce our numerical resolution setting ({ref}`subsec:variational_approach`), and an aspect of our problem of potential interest ({ref}`subsec:solution_existence`). Finally, Section {ref}`sec:optimization_questions` reveals some results, and our related questions."
   ]
  },
  {
   "cell_type": "markdown",
   "id": "8dfa995f",
   "metadata": {},
   "source": [
    "(sec:geostrophy)=\n",
    "# Geostrophic approximation\n",
    "\n",
    "Sea Surface Currents (SSC) can be easily approximated from satellite altimetry observations of the Sea Surface Height (SSH) using the geostrophic balance. \n",
    "Geostrophy describes the balance between the pressure gradient force (indirectly observed via SSH), and the Coriolis force. Geostrophic currents satisfy this equilibrium:\n",
    "\n",
    "$$\n",
    "f \\left(\\vec{k} \\times \\vec{u}_g \\right) = -g \\nabla \\eta,\n",
    "$$ (geostrophic_balance)\n",
    "\n",
    "where $f$ is the Coriolis parameter, $\\vec{k}$ the vertical unit vector, $\\vec{u}_g$ the geostrophic velocity, $g$ the gravity, and $\\eta$ the SSH."
   ]
  },
  {
   "cell_type": "markdown",
   "id": "b182ced3",
   "metadata": {},
   "source": [
    "(sec:cyclogeostrophy)=\n",
    "# Cyclogeostrophic balance\n",
    "\n",
    "However, geostrophy alone is not always sufficient to accurately estimate SSC {cite}`penven2014cyclogeostrophic`, and the advective term $\\vec{u} \\cdot \\nabla \\vec{u}$ should be added back to the balance to take into consideration the centrifugial acceleration.\n",
    "Skipping some rearrangements, we can express the cyclogeostrophic balance as:\n",
    "\n",
    "$$\n",
    "\\vec{u}_c - \\frac{\\vec{k}}{f} \\times \\left(\\vec{u}_c \\cdot \\nabla \\vec{u}_c \\right) = \\vec{u}_g, \n",
    "$$ (cyclogeostrophic_balance)\n",
    "\n",
    "where $\\vec{u}_c$ is the cyclogeostrophic velocity.\n",
    "\n",
    "(subsec:solution_existence)=\n",
    "## Solution existence\n",
    "\n",
    "We know that, under some physically unstable conditions, Equation {eq}`cyclogeostrophic_balance` does not hold a mathematical solution {cite}`knox2006iterative`.\n",
    "It can be exhibited in the idealized scenario of a gaussian eddy.\n",
    "\n",
    "In that setting, the nonlinear term $\\vec{u}_c \\cdot \\nabla \\vec{u}_c$ simplifies to $-\\frac{V_{gr}^2}{r} \\vec{e}_r$, with $V_{gr}$ the azimuthal component of the velocity, $r$ the radial distance to the eddy center, and $\\vec{e}_r$ the outward-directed radial unit vector. Consequently, Equation {eq}`cyclogeostrophic_balance` simplifies to the gradient-wind equation {cite}`knox2006iterative`:\n",
    "\n",
    "$$\n",
    "V_{gr} + \\frac{V_{gr}^2}{fr} = V_g,\n",
    "$$ (gradient_wind)\n",
    "\n",
    "where $V_g$ is the azimuthal geostrophic velocity. From Equation {eq}`gradient_wind`, we obtain the \"normal\" physical solution:\n",
    "\n",
    "$$\n",
    "V_{gr} = \\frac{2 V_g}{1 + \\sqrt{1 + 4 V_g / (fr)}}\n",
    "$$ (gradient_wind_sol)\n",
    "\n",
    "By convention, in the northern hemisphere, $r$ is positive for cyclonic eddies, and negative for anticyclonic ones. Therefore, because of the square root in the denominator, there are no real solutions of $V_{gr}$ for small $r$ in anticyclonic eddies {cite}`knox2006iterative`. \n",
    "\n",
    "(subsec:variational_approach)=\n",
    "## Variational approach\n",
    "\n",
    "Because of the advective term $\\vec{u}_c \\cdot \\nabla \\vec{u}_c$, Equation {eq}`cyclogeostrophic_balance` is nonlinear, and solving it analytically is conceivable only in idealized scenarios (such as the gaussian one).\n",
    "We propose to solve it numerically by formulating the cyclogeostrophy as the variational problem:\n",
    "\n",
    "$$\n",
    "J(\\vec{u}_c) = \\left\\lVert \\vec{u_c} - \\frac{\\vec{k}}{f} \\times \\left(\\vec{u_c} \\cdot \\nabla \\vec{u_c}\\right) - \\vec{u_g} \\right\\rVert^2,\n",
    "$$ (var_functional)\n",
    "\n",
    "where $\\lVert.\\rVert$ is the discrete $L^2$ norm.\n",
    "\n",
    "### jaxparrow\n",
    "\n",
    "Our Python package [`jaxparrow`](https://jaxparrow.readthedocs.io/en/latest/) implements this variational approach, leveraging JAX {cite}`bradbury2021jax`. Thanks to JAX automatic differentiation capabilities, $\\nabla J$ is numerically available, and the cyclogeostrophic currents are estimated by minimizing Equation {eq}`var_functional` using a gradient-based optimizer, with $\\vec{u}_c^{(0)} = \\vec{u}_g$ as initial guess."
   ]
  },
  {
   "cell_type": "markdown",
   "id": "3a914564",
   "metadata": {},
   "source": [
    "(sec:optimization_questions)=\n",
    "# Optimization related questions\n",
    "\n",
    "Our interrogations are based on some unexpected (to us) results we obtained when using `jaxparrow` with different optimizers for estimating cyclogeostrophic currents in the Alboran sea (a region of the Mediterranean sea)."
   ]
  },
  {
   "cell_type": "code",
   "execution_count": null,
   "id": "e1f7e1fa",
   "metadata": {
    "tags": [
     "hide-input",
     "hide-output"
    ]
   },
   "outputs": [],
   "source": [
    "!pip install jaxparrow matplotlib"
   ]
  },
  {
   "cell_type": "code",
   "execution_count": null,
   "id": "af81b696",
   "metadata": {
    "tags": [
     "hide-input",
     "hide-output"
    ]
   },
   "outputs": [],
   "source": [
    "import os\n",
    "\n",
    "import matplotlib.colors as colors\n",
    "import matplotlib.pyplot as plt\n",
    "import numpy as np\n",
    "import numpy.ma as ma\n",
    "import xarray as xr\n",
    "\n",
    "from jaxparrow.tools import compute_coriolis_factor, compute_spatial_step\n",
    "from jaxparrow import cyclogeostrophy, geostrophy"
   ]
  },
  {
   "cell_type": "code",
   "execution_count": null,
   "id": "9f3dfe93",
   "metadata": {
    "tags": [
     "hide-input",
     "hide-output"
    ]
   },
   "outputs": [],
   "source": [
    "# some utility functions\n",
    "\n",
    "from jaxparrow.tools.tools import compute_derivative, interpolate\n",
    "def compute_norm_vorticity(u: np.ma.masked_array, v: np.ma.masked_array, \n",
    "                           dy_u: np.ma.masked_array, dx_v: ma.masked_array, \n",
    "                           mask: np.ndarray, f: np.ma.masked_array) -> np.ma.masked_array:\n",
    "    du_dy = compute_derivative(u, dy_u, axis=0)\n",
    "    du_dy = interpolate(du_dy, axis=1)\n",
    "    dv_dx = compute_derivative(v, dx_v, axis=1)\n",
    "    dv_dx = interpolate(dv_dx, axis=0)\n",
    "    return ma.masked_array(dv_dx - du_dy, mask) / f\n",
    "\n",
    "\n",
    "def get_figsize(width_ratio, wh_ratio=1):\n",
    "    dpi_ref = 100\n",
    "    full_width_px = 1600\n",
    "    \n",
    "    fig_width = full_width_px / dpi_ref * width_ratio\n",
    "    fig_height = fig_width / wh_ratio\n",
    "    return fig_width, fig_height"
   ]
  },
  {
   "cell_type": "markdown",
   "id": "0eb7d733",
   "metadata": {},
   "source": [
    "## Alboran sea experiments\n",
    "\n",
    "The Alboran sea is an highly energetic (currents are strong) area where cyclogeostrophy is expected to better represent the ocean dynamic than geostrophy.\n",
    "We use plausible and realistic (but not real) data from the state-of-the-art NEMO ocean circulation model {cite}`nemo2022ocean` as reference."
   ]
  },
  {
   "cell_type": "code",
   "execution_count": null,
   "id": "913036b4",
   "metadata": {
    "tags": [
     "hide-input",
     "hide-output"
    ]
   },
   "outputs": [],
   "source": [
    "# download, store, and extract NEMO netCDF files the directory data\n",
    "!wget -P data https://ige-meom-opendap.univ-grenoble-alpes.fr/thredds/fileServer/meomopendap/extract/MEOM/jaxparrow/alboransea.tar.gz\n",
    "!tar -xzf data/alboransea.tar.gz -C data\n",
    "!rm data/alboransea.tar.gz"
   ]
  },
  {
   "cell_type": "code",
   "execution_count": null,
   "id": "87d4de4b",
   "metadata": {
    "tags": [
     "hide-input",
     "hide-output"
    ]
   },
   "outputs": [],
   "source": [
    "# read data\n",
    "data_dir = \"data\"\n",
    "name_mask = \"mask_alboransea.nc\"\n",
    "name_coord = \"coordinates_alboransea.nc\"\n",
    "name_ssh = \"alboransea_sossheig.nc\"\n",
    "name_u = \"alboransea_sozocrtx.nc\"\n",
    "name_v = \"alboransea_somecrty.nc\"\n",
    "\n",
    "ds_coord = xr.open_dataset(os.path.join(data_dir, name_coord))\n",
    "lon = ds_coord.nav_lon.values\n",
    "lat = ds_coord.nav_lat.values\n",
    "\n",
    "ds_mask = xr.open_dataset(os.path.join(data_dir, name_mask))\n",
    "mask_ssh = ds_mask.tmask[0,0].values\n",
    "mask_u = ds_mask.umask[0,0].values\n",
    "mask_v = ds_mask.vmask[0,0].values\n",
    "\n",
    "ds_ssh = xr.open_dataset(os.path.join(data_dir, name_ssh))\n",
    "lon_ssh = ds_ssh.nav_lon.values\n",
    "lat_ssh = ds_ssh.nav_lat.values\n",
    "ssh = ds_ssh.sossheig[0].values\n",
    "\n",
    "ds_u = xr.open_dataset(os.path.join(data_dir, name_u))\n",
    "lon_u = ds_u.nav_lon.values\n",
    "lat_u = ds_u.nav_lat.values\n",
    "uvel = ds_u.sozocrtx[0].values\n",
    "\n",
    "ds_v = xr.open_dataset(os.path.join(data_dir, name_v))\n",
    "lon_v = ds_v.nav_lon.values\n",
    "lat_v = ds_v.nav_lat.values\n",
    "vvel = ds_v.somecrty[0].values"
   ]
  },
  {
   "cell_type": "code",
   "execution_count": null,
   "id": "669b8507",
   "metadata": {
    "tags": [
     "hide-input",
     "hide-output"
    ]
   },
   "outputs": [],
   "source": [
    "# some data manipulations\n",
    "mask_u = 1 - mask_u\n",
    "mask_v = 1 - mask_v\n",
    "mask_ssh = 1 - mask_ssh\n",
    "uvel = ma.masked_array(uvel, mask_u)\n",
    "vvel = ma.masked_array(vvel, mask_v)\n",
    "ssh = ma.masked_array(ssh, mask_ssh)\n",
    "lon_u = ma.masked_array(lon_u, mask_u)\n",
    "lat_u = ma.masked_array(lat_u, mask_u)\n",
    "lon_v = ma.masked_array(lon_v, mask_v)\n",
    "lat_v = ma.masked_array(lat_v, mask_v)\n",
    "lon_ssh = ma.masked_array(lon_ssh, mask_ssh)\n",
    "lat_ssh = ma.masked_array(lat_ssh, mask_ssh)"
   ]
  },
  {
   "cell_type": "code",
   "execution_count": null,
   "id": "907b00b4",
   "metadata": {
    "tags": [
     "hide-input",
     "hide-output"
    ]
   },
   "outputs": [],
   "source": [
    "# needed for computations\n",
    "dx_ssh, dy_ssh = compute_spatial_step(lat_ssh, lon_ssh)\n",
    "dx_u, dy_u = compute_spatial_step(lat_u, lon_u)\n",
    "dx_v, dy_v = compute_spatial_step(lat_v, lon_v)\n",
    "coriolis_factor = compute_coriolis_factor(lat)\n",
    "coriolis_factor_u = compute_coriolis_factor(lat_u)\n",
    "coriolis_factor_v = compute_coriolis_factor(lat_v)"
   ]
  },
  {
   "cell_type": "markdown",
   "id": "dce887c4",
   "metadata": {},
   "source": [
    "More precisely, we have access to simulated SSH and SSC velocities, and we derive SSC normalized vorticities ($\\xi / f$) from the velocities (see {numref}`fig:nemo_data`).\n",
    "Highly negative (smaller than -2) vorticities are typical unstable conditions for which the cyclogeostrophic balance does not hold a mathematical solution (because cyclogeostrophy is no longer a physically valid approximation)."
   ]
  },
  {
   "cell_type": "code",
   "execution_count": null,
   "id": "903efd9d",
   "metadata": {
    "tags": [
     "hide-input",
     "hide-output"
    ]
   },
   "outputs": [],
   "source": [
    "norm_vorticity = compute_norm_vorticity(uvel, vvel, dy_u, dx_v, mask_ssh, coriolis_factor)"
   ]
  },
  {
   "cell_type": "code",
   "execution_count": null,
   "id": "215f559c",
   "metadata": {
    "mystnb": {
     "figure": {
      "caption": "NEMO data\n",
      "name": "fig:nemo_data"
     }
    },
    "tags": [
     "hide-input"
    ]
   },
   "outputs": [],
   "source": [
    "vmin = -4\n",
    "vmax = -vmin\n",
    "\n",
    "_, (ax1, ax2, ax3) = plt.subplots(1, 3, figsize=get_figsize(1, 20/3))\n",
    "\n",
    "ax1.set_title(\"Sea Surface Height\")\n",
    "ax1.set_xlabel(\"longitude\")\n",
    "ax1.set_ylabel(\"latitude\")\n",
    "im = ax1.pcolormesh(lon, lat, ssh, cmap=\"turbo\", shading=\"auto\")\n",
    "clb1 = plt.colorbar(im, ax=ax1)\n",
    "\n",
    "clb1.ax.set_title(\"SSH (m)\")\n",
    "ax2.set_title(\"Current velocity\")\n",
    "ax2.set_xlabel(\"longitude\")\n",
    "im = ax2.pcolormesh(lon, lat, np.sqrt(uvel**2 + vvel**2), shading=\"auto\")\n",
    "ax2.quiver(lon[::5, ::5], lat[::5, ::5], uvel[::5, ::5], vvel[::5, ::5], color=\"k\")\n",
    "clb2 = plt.colorbar(im, ax=ax2)\n",
    "clb2.ax.set_title(\"$\\\\vert\\\\vert \\\\vec{u} \\\\vert\\\\vert$ (m/s)\")\n",
    "\n",
    "ax3.set_title(\"Current normalized vorticity\")\n",
    "ax3.set_xlabel(\"longitude\")\n",
    "im = ax3.pcolormesh(lon, lat, norm_vorticity, cmap=\"RdBu_r\", shading=\"auto\", \n",
    "                    vmin=vmin, vmax=vmax)\n",
    "clb3 = plt.colorbar(im, ax=ax3)\n",
    "clb3.ax.set_title(\"$\\\\xi / f$\")\n",
    "\n",
    "plt.show()"
   ]
  },
  {
   "cell_type": "markdown",
   "id": "e874c983",
   "metadata": {},
   "source": [
    "`jaxparrow` first estimates the geostrophic velocities (following Equation {eq}`geostrophic_balance`), from which we can computes the geostrophic vorticities (see {numref}`fig:geos`)."
   ]
  },
  {
   "cell_type": "code",
   "execution_count": null,
   "id": "185207cf",
   "metadata": {
    "tags": [
     "hide-input",
     "hide-output"
    ]
   },
   "outputs": [],
   "source": [
    "u_geos, v_geos = geostrophy(ssh, dx_ssh, dy_ssh, coriolis_factor_u, coriolis_factor_v)\n",
    "u_geos = ma.masked_array(u_geos, mask_u)\n",
    "v_geos = ma.masked_array(v_geos, mask_v)\n",
    "norm_vorticity_geos = compute_norm_vorticity(u_geos, v_geos, dy_u, dx_v, mask_ssh, coriolis_factor)"
   ]
  },
  {
   "cell_type": "code",
   "execution_count": null,
   "id": "f02cde82",
   "metadata": {
    "mystnb": {
     "figure": {
      "caption": "NEMO (left) and geostrophic (right) vorticities\n",
      "name": "fig:geos"
     },
     "image": {
      "width": "66.7%"
     }
    },
    "tags": [
     "hide-input"
    ]
   },
   "outputs": [],
   "source": [
    "_, (ax1, ax2) = plt.subplots(1, 2, figsize=get_figsize(2/3, 12.66/3))\n",
    "\n",
    "ax1.set_title(\"NEMO data\")\n",
    "ax1.set_xlabel(\"longitude\")\n",
    "ax1.set_ylabel(\"latitude\")\n",
    "im = ax1.pcolormesh(lon, lat, norm_vorticity, cmap=\"RdBu_r\", shading=\"auto\", \n",
    "                    vmin=vmin, vmax=vmax)\n",
    "clb1 = plt.colorbar(im, ax=ax1)\n",
    "clb1.ax.set_title(\"$\\\\xi / f$\")\n",
    "\n",
    "ax2.set_title(\"Geostrophy\")\n",
    "ax2.set_xlabel(\"longitude\")\n",
    "im = ax2.pcolormesh(lon, lat, norm_vorticity_geos, cmap=\"RdBu_r\", shading=\"auto\", \n",
    "                    vmin=vmin, vmax=vmax)\n",
    "clb2 = plt.colorbar(im, ax=ax2)\n",
    "clb2.ax.set_title(\"$\\\\xi / f$\")\n",
    "\n",
    "plt.show()"
   ]
  },
  {
   "cell_type": "markdown",
   "id": "e1a9c336",
   "metadata": {},
   "source": [
    "Next, `jaxparrow` estimates the cyclogeostrophic velocities by minimizing Equation {eq}`var_functional`, with an optimizer chosen by the user."
   ]
  },
  {
   "cell_type": "markdown",
   "id": "83bea056",
   "metadata": {},
   "source": [
    "### Classical gradient descent\n",
    "\n",
    "Using gradient descent, we obtain very good qualitative results (see {numref}`fig:sgd`), with little sensitivity to the learning rate (not shown here)."
   ]
  },
  {
   "cell_type": "code",
   "execution_count": null,
   "id": "a668e3ec",
   "metadata": {
    "tags": [
     "hide-input",
     "hide-output"
    ]
   },
   "outputs": [],
   "source": [
    "u_var, v_var, losses_var = cyclogeostrophy(u_geos, v_geos, dx_u, dx_v, dy_u, dy_v, coriolis_factor_u, coriolis_factor_v, \n",
    "                                           optim=\"sgd\", return_losses=True)\n",
    "u_var = ma.masked_array(u_var, mask_u)\n",
    "v_var = ma.masked_array(v_var, mask_v)\n",
    "norm_vorticity_var = compute_norm_vorticity(u_var, v_var, dy_u, dx_v, mask_ssh, coriolis_factor)"
   ]
  },
  {
   "cell_type": "code",
   "execution_count": null,
   "id": "05a66dbb",
   "metadata": {
    "mystnb": {
     "figure": {
      "caption": "NEMO (left) and SGD (right) vorticities\n",
      "name": "fig:sgd"
     }
    },
    "tags": [
     "hide-input"
    ]
   },
   "outputs": [],
   "source": [
    "_, (ax1, ax2, ax3) = plt.subplots(1, 3, figsize=get_figsize(1, 20/3))\n",
    "\n",
    "ax1.set_title(\"NEMO data\")\n",
    "ax1.set_xlabel(\"longitude\")\n",
    "ax1.set_ylabel(\"latitude\")\n",
    "im = ax1.pcolormesh(lon, lat, norm_vorticity, cmap=\"RdBu_r\", shading=\"auto\", \n",
    "                    vmin=vmin, vmax=vmax)\n",
    "clb1 = plt.colorbar(im, ax=ax1)\n",
    "clb1.ax.set_title(\"$\\\\xi / f$\")\n",
    "\n",
    "ax2.set_title(\"Cyclogeostrophy - SGD\")\n",
    "ax2.set_xlabel(\"longitude\")\n",
    "im = ax2.pcolormesh(lon, lat, norm_vorticity_var, cmap=\"RdBu_r\", shading=\"auto\", \n",
    "                    vmin=vmin, vmax=vmax)\n",
    "clb2 = plt.colorbar(im, ax=ax2)\n",
    "clb2.ax.set_title(\"$\\\\xi / f$\")\n",
    "\n",
    "ax3.set_title(\"Cyclogeostrophic disequilibrium - $J(\\\\vec{u}_c^{(n)})$\")\n",
    "ax3.set_xlabel(\"step\")\n",
    "ax3.set_ylabel(\"disequilibrium\")\n",
    "ax3.plot(losses_var[:np.argmin(losses_var)+10])\n",
    "\n",
    "plt.show()"
   ]
  },
  {
   "cell_type": "markdown",
   "id": "6d0c6094",
   "metadata": {},
   "source": [
    "### Adam variation\n",
    "\n",
    "When using Adam, the loss curve suggests that we are still converging, but clearly, towards a qualitatively worse solution (see {numref}`fig:adam`)."
   ]
  },
  {
   "cell_type": "code",
   "execution_count": null,
   "id": "545675f2",
   "metadata": {
    "tags": [
     "hide-input",
     "hide-output"
    ]
   },
   "outputs": [],
   "source": [
    "u_var, v_var, losses_var = cyclogeostrophy(u_geos, v_geos, dx_u, dx_v, dy_u, dy_v, coriolis_factor_u, coriolis_factor_v, \n",
    "                                           optim=\"adam\", return_losses=True)\n",
    "u_var = ma.masked_array(u_var, mask_u)\n",
    "v_var = ma.masked_array(v_var, mask_v)\n",
    "norm_vorticity_var = compute_norm_vorticity(u_var, v_var, dy_u, dx_v, mask_ssh, coriolis_factor)"
   ]
  },
  {
   "cell_type": "code",
   "execution_count": null,
   "id": "da038ea4",
   "metadata": {
    "mystnb": {
     "figure": {
      "caption": "NEMO (left) and Adam (right) vorticities\n",
      "name": "fig:adam"
     }
    },
    "tags": [
     "hide-input"
    ]
   },
   "outputs": [],
   "source": [
    "_, (ax1, ax2, ax3) = plt.subplots(1, 3, figsize=get_figsize(1, 20/3))\n",
    "\n",
    "ax1.set_title(\"NEMO data\")\n",
    "ax1.set_xlabel(\"longitude\")\n",
    "ax1.set_ylabel(\"latitude\")\n",
    "im = ax1.pcolormesh(lon, lat, norm_vorticity, cmap=\"RdBu_r\", shading=\"auto\", \n",
    "                    vmin=vmin, vmax=vmax)\n",
    "clb1 = plt.colorbar(im, ax=ax1)\n",
    "clb1.ax.set_title(\"$\\\\xi / f$\")\n",
    "\n",
    "ax2.set_title(\"Cyclogeostrophy - Adam\")\n",
    "ax2.set_xlabel(\"longitude\")\n",
    "im = ax2.pcolormesh(lon, lat, norm_vorticity_var, cmap=\"RdBu_r\", shading=\"auto\", \n",
    "                    vmin=vmin, vmax=vmax)\n",
    "clb2 = plt.colorbar(im, ax=ax2)\n",
    "clb2.ax.set_title(\"$\\\\xi / f$\")\n",
    "\n",
    "ax3.set_title(\"Cyclogeostrophic disequilibrium - $J(\\\\vec{u}_c^{(n)})$\")\n",
    "ax3.set_xlabel(\"step\")\n",
    "ax3.set_ylabel(\"disequilibrium\")\n",
    "ax3.plot(losses_var[:np.argmin(losses_var)+10])\n",
    "\n",
    "plt.show()"
   ]
  },
  {
   "cell_type": "markdown",
   "id": "5bc1ecaf",
   "metadata": {},
   "source": [
    "## Open questions\n",
    "\n",
    "These first observations lead us to believe that the optimization problem is probably not \"smooth\", and that several solutions exist.\n",
    "We think that it could be related to physical unstable conditions resulting in the absence of mathematical solutions to Equation {eq}`cyclogeostrophic_balance` (as exhibited in Equation {eq}`gradient_wind_sol`).\n",
    "Our questions at this point could be formulated as:\n",
    "- are there optimization strategies that could account for these irregularities?\n",
    "  - optimizing on subparts of the domain, masking areas with highly negative geostrophic vorticities, ...\n",
    "- are there theoretical properties of the optimizers explaining our observations?\n",
    "- how sensitive the solution is to the initial guess (that is geostrophic velocities)?"
   ]
  },
  {
   "cell_type": "markdown",
   "id": "c7afc107",
   "metadata": {},
   "source": [
    "```{bibliography}\n",
    ":style: plain\n",
    "```"
   ]
  }
 ],
 "metadata": {
  "kernelspec": {
   "display_name": "Python 3",
   "language": "python",
   "name": "python3"
  }
 },
 "nbformat": 4,
 "nbformat_minor": 5
}
